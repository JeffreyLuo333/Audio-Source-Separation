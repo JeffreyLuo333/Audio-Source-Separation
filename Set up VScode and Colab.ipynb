{
  "nbformat": 4,
  "nbformat_minor": 0,
  "metadata": {
    "colab": {
      "provenance": [],
      "collapsed_sections": [],
      "authorship_tag": "ABX9TyMdyzX5BqV2hcjpETDS/mRK",
      "include_colab_link": true
    },
    "kernelspec": {
      "name": "python3",
      "display_name": "Python 3"
    },
    "language_info": {
      "name": "python"
    }
  },
  "cells": [
    {
      "cell_type": "markdown",
      "metadata": {
        "id": "view-in-github",
        "colab_type": "text"
      },
      "source": [
        "<a href=\"https://colab.research.google.com/github/JeffreyLuo333/Audio-Source-Separation/blob/main/Set%20up%20VScode%20and%20Colab.ipynb\" target=\"_parent\"><img src=\"https://colab.research.google.com/assets/colab-badge.svg\" alt=\"Open In Colab\"/></a>"
      ]
    },
    {
      "cell_type": "markdown",
      "source": [
        "To use Google Colab with VS Code (code server), you need to install the colabcode Python package. This is an awesome open-source Python package developed by Abhishek Thakur.\n",
        "\n",
        "To install the package, run the following command in your notebook cell:"
      ],
      "metadata": {
        "id": "sK-Yc0QH37im"
      }
    },
    {
      "cell_type": "code",
      "execution_count": null,
      "metadata": {
        "id": "C5O3AJ8z1PNM"
      },
      "outputs": [],
      "source": [
        " !pip install colabcode"
      ]
    },
    {
      "cell_type": "markdown",
      "source": [
        "The next step is to import the ColabCode class from the package"
      ],
      "metadata": {
        "id": "qcubqO1n5oyG"
      }
    },
    {
      "cell_type": "code",
      "source": [
        "from colabcode import ColabCode"
      ],
      "metadata": {
        "id": "8SxeWpCp5pxo"
      },
      "execution_count": null,
      "outputs": []
    },
    {
      "cell_type": "markdown",
      "source": [
        "After importing ColabCode, you need to create an instance of ColabCode and set the following arguments:\n",
        "\n",
        "port – The port you want to run the code-server on. For example port=10000\n",
        "\n",
        "\n",
        "password – You can set a password to protect your code-server from unauthorized access. This is an optional argument.\n",
        "mount_drive – If you want to use your Google drive. This is a Boolean argument which means you can set it to True or False. This is an optional argument."
      ],
      "metadata": {
        "id": "BjhevHPP5vGT"
      }
    },
    {
      "cell_type": "code",
      "source": [
        "ColabCode(port=10000)"
      ],
      "metadata": {
        "colab": {
          "base_uri": "https://localhost:8080/"
        },
        "id": "OS0bHGLa55hA",
        "outputId": "58008b7e-eaa9-49ea-f64f-3c46d99c7e67"
      },
      "execution_count": null,
      "outputs": [
        {
          "output_type": "stream",
          "name": "stdout",
          "text": [
            "Code Server can be accessed on: NgrokTunnel: \"https://c297-34-86-125-160.ngrok.io\" -> \"http://localhost:10000\"\n",
            "[2022-09-24T15:55:53.751Z] info  code-server 3.10.2 387b12ef4ca404ffd39d84834e1f0776e9e3c005\n",
            "[2022-09-24T15:55:53.753Z] info  Using user-data-dir ~/.local/share/code-server\n",
            "[2022-09-24T15:55:53.774Z] info  Using config file ~/.config/code-server/config.yaml\n",
            "[2022-09-24T15:55:53.774Z] info  HTTP server listening on http://127.0.0.1:10000 \n",
            "[2022-09-24T15:55:53.774Z] info    - Authentication is disabled \n",
            "[2022-09-24T15:55:53.774Z] info    - Not serving HTTPS \n"
          ]
        }
      ]
    },
    {
      "cell_type": "markdown",
      "source": [
        "After running the ColabCode instance, it will start the server and show the link to access the code server.\n",
        "\n",
        "You need to click the link and it will open in a new tab."
      ],
      "metadata": {
        "id": "NbxL8-Tn7Gop"
      }
    }
  ]
}